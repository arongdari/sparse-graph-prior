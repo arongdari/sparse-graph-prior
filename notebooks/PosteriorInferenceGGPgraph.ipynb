{
 "cells": [
  {
   "cell_type": "markdown",
   "metadata": {},
   "source": [
    "# Posterior inference for GGP graph model "
   ]
  },
  {
   "cell_type": "markdown",
   "metadata": {},
   "source": [
    "In this notebook, we'll infer the posterior distribution of yeast dataset using generalised gamma process graph model.\n",
    "\n",
    "Original source of the dataset with detailed description: http://www.cise.ufl.edu/research/sparse/matrices/Pajek/yeast.html"
   ]
  },
  {
   "cell_type": "code",
   "execution_count": 1,
   "metadata": {
    "collapsed": true
   },
   "outputs": [],
   "source": [
    "import os\n",
    "import pickle\n",
    "import time\n",
    "from collections import defaultdict\n",
    "\n",
    "import matplotlib.pyplot as plt\n",
    "import numpy as np\n",
    "from scipy.io import loadmat\n",
    "\n",
    "from sgp import GGPgraphmcmc\n",
    "\n",
    "%matplotlib inline"
   ]
  },
  {
   "cell_type": "markdown",
   "metadata": {},
   "source": [
    "### Loading yeast dataset"
   ]
  },
  {
   "cell_type": "code",
   "execution_count": 2,
   "metadata": {
    "collapsed": false
   },
   "outputs": [],
   "source": [
    "mat = loadmat('../data/yeast/yeast.mat')\n",
    "graph = mat['Problem'][0][0][2]"
   ]
  },
  {
   "cell_type": "markdown",
   "metadata": {},
   "source": [
    "### Run MCMC sampler"
   ]
  },
  {
   "cell_type": "code",
   "execution_count": 3,
   "metadata": {
    "collapsed": false
   },
   "outputs": [
    {
     "name": "stdout",
     "output_type": "stream",
     "text": [
      "Iteration=0\n",
      "\talpha = 46.50\n",
      "\tsigma = -0.523\n",
      "\ttau   = 4.247\n",
      "-----------------------------------\n",
      "Start MCMC for GGP graphs\n",
      "Nb of nodes: 2361 - Nb of edges: 14364\n",
      "Number of iterations: 500\n",
      "Estimated computation time: 0 hour(s) 25 minute(s)\n",
      "Estimated end of computation:  Jul 20th, 15:40:37\n",
      "-----------------------------------\n",
      "-----------------------------------\n",
      "End MCMC for GGP graphs\n",
      "Computation time: 0 hour(s) 22 minute(s)\n",
      "End of computation:  Jul 20th, 15:37:08\n",
      "-----------------------------------\n"
     ]
    },
    {
     "name": "stderr",
     "output_type": "stream",
     "text": [
      "/Users/arongdari/anaconda/lib/python3.5/site-packages/numpy-1.11.1-py3.5-macosx-10.5-x86_64.egg/numpy/core/_methods.py:29: VisibleDeprecationWarning: using a non-integer number instead of an integer will result in an error in the future\n",
      "  return umr_minimum(a, axis, None, out, keepdims)\n",
      "/Users/arongdari/anaconda/lib/python3.5/site-packages/numpy-1.11.1-py3.5-macosx-10.5-x86_64.egg/numpy/core/_methods.py:59: RuntimeWarning: Mean of empty slice.\n",
      "  warnings.warn(\"Mean of empty slice.\", RuntimeWarning)\n",
      "/Users/arongdari/anaconda/lib/python3.5/site-packages/numpy-1.11.1-py3.5-macosx-10.5-x86_64.egg/numpy/core/_methods.py:70: RuntimeWarning: invalid value encountered in double_scalars\n",
      "  ret = ret.dtype.type(ret / rcount)\n",
      "/Users/arongdari/workspace/sparse-graph-prior/sgp/GGPgraphmcmc.py:54: RuntimeWarning: invalid value encountered in add\n",
      "  logaccept_d = diff_d * lograte_poi - gammaln(dprop + 1.) + gammaln(d + 1.) - logqprop + logq\n"
     ]
    }
   ],
   "source": [
    "modelparam = dict()\n",
    "mcmcparam = dict()\n",
    "\n",
    "modelparam['alpha'] = (0, 0)\n",
    "modelparam['sigma'] = (0, 0)\n",
    "modelparam['tau'] = (0, 0)\n",
    "\n",
    "mcmcparam['niter'] = 500\n",
    "mcmcparam['nburn'] = 1\n",
    "mcmcparam['thin'] = 1\n",
    "mcmcparam['leapfrog.L'] = 5\n",
    "mcmcparam['leapfrog.epsilon'] = 0.1\n",
    "mcmcparam['leapfrog.nadapt'] = 1\n",
    "mcmcparam['latent.MH_nb'] = 1\n",
    "mcmcparam['hyper.MH_nb'] = 2\n",
    "mcmcparam['hyper.rw_std'] = [0.02, 0.02]\n",
    "mcmcparam['store_w'] = True\n",
    "\n",
    "typegraph='undirected' # or simple\n",
    "\n",
    "samples, stats = GGPgraphmcmc(graph, modelparam, mcmcparam, typegraph, verbose=True)"
   ]
  },
  {
   "cell_type": "markdown",
   "metadata": {},
   "source": [
    "The invalid values are carefully handled in the inference codes. It is safe to ignore the warning messages."
   ]
  },
  {
   "cell_type": "markdown",
   "metadata": {},
   "source": [
    "## Trace plots of some variables of interest"
   ]
  },
  {
   "cell_type": "code",
   "execution_count": 4,
   "metadata": {
    "collapsed": false
   },
   "outputs": [
    {
     "data": {
      "text/plain": [
       "<matplotlib.text.Text at 0x10690e198>"
      ]
     },
     "execution_count": 4,
     "metadata": {},
     "output_type": "execute_result"
    },
    {
     "data": {
      "image/png": "[encoded data removed]",
      "text/plain": [
       "<matplotlib.figure.Figure at 0x10f0fe518>"
      ]
     },
     "metadata": {},
     "output_type": "display_data"
    }
   ],
   "source": [
    "plt.plot(samples['sigma'])\n",
    "plt.title('Trace plot of $\\sigma$ variable')"
   ]
  },
  {
   "cell_type": "markdown",
   "metadata": {},
   "source": [
    "When the sigma is less than 0, the inferred graph is dense."
   ]
  },
  {
   "cell_type": "code",
   "execution_count": 5,
   "metadata": {
    "collapsed": false
   },
   "outputs": [
    {
     "data": {
      "text/plain": [
       "<matplotlib.text.Text at 0x107cdd860>"
      ]
     },
     "execution_count": 5,
     "metadata": {},
     "output_type": "execute_result"
    },
    {
     "data": {
      "image/png": "[encoded data removed]",
      "text/plain": [
       "<matplotlib.figure.Figure at 0x107165320>"
      ]
     },
     "metadata": {},
     "output_type": "display_data"
    }
   ],
   "source": [
    "plt.plot(stats['w_rate'])\n",
    "plt.title('MH acceptance rate for weight w')"
   ]
  },
  {
   "cell_type": "code",
   "execution_count": 6,
   "metadata": {
    "collapsed": false
   },
   "outputs": [
    {
     "data": {
      "text/plain": [
       "<matplotlib.text.Text at 0x10f396080>"
      ]
     },
     "execution_count": 6,
     "metadata": {},
     "output_type": "execute_result"
    },
    {
     "data": {
      "image/png": "[encoded data removed]",
      "text/plain": [
       "<matplotlib.figure.Figure at 0x107cd65c0>"
      ]
     },
     "metadata": {},
     "output_type": "display_data"
    }
   ],
   "source": [
    "plt.plot(stats['hyper_rate'])\n",
    "plt.title('MH acceptance rate for hyper-params')"
   ]
  },
  {
   "cell_type": "markdown",
   "metadata": {},
   "source": [
    "checking the acceptance ratio"
   ]
  }
 ],
 "metadata": {
  "kernelspec": {
   "display_name": "Python 3",
   "language": "python",
   "name": "python3"
  },
  "language_info": {
   "codemirror_mode": {
    "name": "ipython",
    "version": 3
   },
   "file_extension": ".py",
   "mimetype": "text/x-python",
   "name": "python",
   "nbconvert_exporter": "python",
   "pygments_lexer": "ipython3",
   "version": "3.5.1"
  }
 },
 "nbformat": 4,
 "nbformat_minor": 0
}
