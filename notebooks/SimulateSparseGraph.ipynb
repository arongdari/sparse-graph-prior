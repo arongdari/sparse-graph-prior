{
 "cells": [
  {
   "cell_type": "markdown",
   "metadata": {},
   "source": [
    "# Generalised Gamma Process (GGP)"
   ]
  },
  {
   "cell_type": "markdown",
   "metadata": {},
   "source": [
    "Generalised gamma process with intensity\n",
    "$\\lambda(w) = \\frac{\\alpha}{\\Gamma(1-\\sigma)} w^{(-1-\\sigma)} \\exp(-\\tau w) $"
   ]
  },
  {
   "cell_type": "code",
   "execution_count": 19,
   "metadata": {
    "collapsed": false
   },
   "outputs": [],
   "source": [
    "from operator import itemgetter\n",
    "\n",
    "import numpy as np\n",
    "from scipy.special import gamma\n",
    "import matplotlib.pyplot as plt\n",
    "import seaborn as sns; sns.set()\n",
    "\n",
    "from sgp import GGPrnd, BSgraphrnd, GGPgraphrnd\n",
    "\n",
    "%matplotlib inline"
   ]
  },
  {
   "cell_type": "markdown",
   "metadata": {},
   "source": [
    "##  Intensity plot of GGP measure"
   ]
  },
  {
   "cell_type": "markdown",
   "metadata": {},
   "source": [
    "We plot the intensity function to give some intuition about GGP measure."
   ]
  },
  {
   "cell_type": "code",
   "execution_count": 20,
   "metadata": {
    "collapsed": false
   },
   "outputs": [],
   "source": [
    "def levy_intensity(w, alpha, sigma, tau):\n",
    "    return alpha/gamma(1.-sigma) * w**(-1.-sigma) * np.exp(-tau*w)"
   ]
  },
  {
   "cell_type": "markdown",
   "metadata": {},
   "source": [
    "Typically, sigma is the most important parameter of GGP of which controls the number of clusters in mixture models.\n",
    "\n",
    "Reference: Lijoi, A., Mena, R. H., & Prunster, I. (2007). Controlling the reinforcement in Bayesian non-parametric mixture models. Journal of the Royal Statistical Society. Series B: Statistical Methodology, 69(4), 715–740. http://doi.org/10.1111/j.1467-9868.2007.00609.x"
   ]
  },
  {
   "cell_type": "code",
   "execution_count": 21,
   "metadata": {
    "collapsed": false
   },
   "outputs": [],
   "source": [
    "alpha = 20\n",
    "sigma = 0.1\n",
    "tau = 1.\n",
    "intensity = levy_intensity(np.linspace(0,0.001,1000), alpha, sigma, tau)\n",
    "\n",
    "sigma = 0.5\n",
    "intensity2 = levy_intensity(np.linspace(0,0.001,1000), alpha, sigma, tau)\n",
    "\n",
    "sigma = 0.9\n",
    "intensity3 = levy_intensity(np.linspace(0,0.001,1000), alpha, sigma, tau)"
   ]
  },
  {
   "cell_type": "code",
   "execution_count": 43,
   "metadata": {
    "collapsed": false
   },
   "outputs": [
    {
     "data": {
      "text/plain": [
       "<matplotlib.text.Text at 0x11c1447b8>"
      ]
     },
     "execution_count": 43,
     "metadata": {},
     "output_type": "execute_result"
    },
    {
     "data": {
      "image/png": "[encoded data removed]",
      "text/plain": [
       "<matplotlib.figure.Figure at 0x11bfa5ef0>"
      ]
     },
     "metadata": {},
     "output_type": "display_data"
    }
   ],
   "source": [
    "plt.plot(np.linspace(0,0.1,1000)[1:], intensity[1:], label='$\\sigma = 0.1$')\n",
    "plt.plot(np.linspace(0,0.1,1000)[1:], intensity2[1:], label='$\\sigma = 0.5$')\n",
    "plt.plot(np.linspace(0,0.1,1000)[1:], intensity3[1:], label='$\\sigma = 0.9$')\n",
    "plt.ylim([0,1e8])\n",
    "plt.legend()\n",
    "plt.title('GGP intensity function alpha=20, tau=1')"
   ]
  },
  {
   "cell_type": "markdown",
   "metadata": {},
   "source": [
    "As the sigma is more closer to 1, it gives more weight to the tail of the intensity."
   ]
  },
  {
   "cell_type": "markdown",
   "metadata": {},
   "source": [
    "# Simulating Random Measure Drawn from GGP"
   ]
  },
  {
   "cell_type": "markdown",
   "metadata": {},
   "source": [
    "A random measure is drawn from GGP:\n",
    "\n",
    "$\\mu \\sim \\text{GGP}(\\alpha, \\sigma, \\tau)$\n",
    "\n",
    "$\\mu = \\sum_{i=1}^{\\infty} w_i \\delta_{\\theta_i}$"
   ]
  },
  {
   "cell_type": "markdown",
   "metadata": {},
   "source": [
    "It's not possible to simulate an infinite dimensional GGP. We use an adaptive thinning method proposed by Favaro and Teh.\n",
    "\n",
    "Reference: Favaro, S., & Teh, Y. W. (2013). MCMC for Normalized Random Measure Mixture Models. Statistical Science, 28(3), 335–359. http://doi.org/10.1214/13-STS422"
   ]
  },
  {
   "cell_type": "code",
   "execution_count": 35,
   "metadata": {
    "collapsed": true
   },
   "outputs": [],
   "source": [
    "alpha = 20.\n",
    "tau = 1.\n",
    "sigma = 0.5\n",
    "\n",
    "w, T = GGPrnd(alpha, sigma, tau)\n",
    "thetas = np.random.random(size = w.size)*alpha"
   ]
  },
  {
   "cell_type": "markdown",
   "metadata": {},
   "source": [
    "number of atoms:"
   ]
  },
  {
   "cell_type": "code",
   "execution_count": 6,
   "metadata": {
    "collapsed": false
   },
   "outputs": [
    {
     "name": "stdout",
     "output_type": "stream",
     "text": [
      "19846\n"
     ]
    }
   ],
   "source": [
    "print(len(w))"
   ]
  },
  {
   "cell_type": "code",
   "execution_count": 7,
   "metadata": {
    "collapsed": false
   },
   "outputs": [
    {
     "data": {
      "text/plain": [
       "<matplotlib.text.Text at 0x119f8d908>"
      ]
     },
     "execution_count": 7,
     "metadata": {},
     "output_type": "execute_result"
    },
    {
     "data": {
      "image/png": "[encoded data removed]",
      "text/plain": [
       "<matplotlib.figure.Figure at 0x117825748>"
      ]
     },
     "metadata": {},
     "output_type": "display_data"
    }
   ],
   "source": [
    "plt.figure(figsize=(12,3))\n",
    "plt.vlines(thetas, ymin=0, ymax=w)\n",
    "plt.xlabel('$\\Theta$')\n",
    "plt.ylabel('w')\n",
    "plt.title('$\\mu = \\sum_i w_i \\delta_{\\Theta_i}$')"
   ]
  },
  {
   "cell_type": "markdown",
   "metadata": {},
   "source": [
    "As you can see the figure, most of the atoms have very small weight, but some atoms have large weight (>.5)"
   ]
  },
  {
   "cell_type": "markdown",
   "metadata": {},
   "source": [
    "# Simulating Block-structured Sparse Graph"
   ]
  },
  {
   "cell_type": "markdown",
   "metadata": {},
   "source": [
    "We will simulate block-structred sparse graph suggested by Herlau, T. et al.\n",
    "\n",
    "Reference: Herlau, T., Schmidt, M. N., & Mørup, M. (2015). Completely random measures for modelling block-structured networks, (1), 1–15. Retrieved from http://arxiv.org/abs/1507.02925"
   ]
  },
  {
   "cell_type": "markdown",
   "metadata": {},
   "source": [
    "## Sample a graph with 4-blocks having predefined interaction rate"
   ]
  },
  {
   "cell_type": "markdown",
   "metadata": {},
   "source": [
    "eta = interaction rate between blocks. large value shows high interaction rate between two blocks."
   ]
  },
  {
   "cell_type": "code",
   "execution_count": 8,
   "metadata": {
    "collapsed": false
   },
   "outputs": [],
   "source": [
    "K = 4\n",
    "alpha = 20.\n",
    "tau = 1.\n",
    "sigma = 0.5\n",
    "eta = (1.,1.)\n",
    "eta = np.array([[10, 500, 10, 500],[500, 10, 500, 10],[10, 500, 10, 500],[500, 10, 500, 10]])\n",
    "D, w, w_rem, alpha, sigma, tau, eta, group, icount = BSgraphrnd(alpha, sigma, tau, K, eta, K*2.)\n",
    "g = D.toarray() > 0"
   ]
  },
  {
   "cell_type": "markdown",
   "metadata": {},
   "source": [
    "### Basic stat of random graph"
   ]
  },
  {
   "cell_type": "code",
   "execution_count": 9,
   "metadata": {
    "collapsed": false
   },
   "outputs": [
    {
     "name": "stdout",
     "output_type": "stream",
     "text": [
      "Graph size =  (3806, 3806)\n",
      "Total Edge Count = 114248.0\n"
     ]
    }
   ],
   "source": [
    "print(\"Graph size = \", D.shape)\n",
    "print(\"Total Edge Count =\", D.sum())"
   ]
  },
  {
   "cell_type": "markdown",
   "metadata": {},
   "source": [
    "Sort nodes according to block assignment"
   ]
  },
  {
   "cell_type": "code",
   "execution_count": 10,
   "metadata": {
    "collapsed": false
   },
   "outputs": [],
   "source": [
    "#g_base_idx = [i[0] for i in sorted(enumerate(group), key=itemgetter(1))]\n",
    "idx = [x for x in enumerate(group)]\n",
    "np.random.shuffle(idx)\n",
    "g_base_idx = [i[0] for i in sorted(idx, key=itemgetter(1))]\n",
    "sorted_g = g[np.ix_(g_base_idx, g_base_idx)]"
   ]
  },
  {
   "cell_type": "markdown",
   "metadata": {},
   "source": [
    "number of nodes for each block"
   ]
  },
  {
   "cell_type": "code",
   "execution_count": 11,
   "metadata": {
    "collapsed": false
   },
   "outputs": [
    {
     "name": "stdout",
     "output_type": "stream",
     "text": [
      "[386, 1586, 1267, 567]\n"
     ]
    }
   ],
   "source": [
    "g_node = [np.sum(group == k) for k in range(K)]\n",
    "g_idx = np.cumsum(g_node)\n",
    "print(g_node)"
   ]
  },
  {
   "cell_type": "markdown",
   "metadata": {},
   "source": [
    "### Plot Sampled Graph"
   ]
  },
  {
   "cell_type": "code",
   "execution_count": 12,
   "metadata": {
    "collapsed": false
   },
   "outputs": [
    {
     "data": {
      "text/plain": [
       "<matplotlib.collections.LineCollection at 0x11a4f17b8>"
      ]
     },
     "execution_count": 12,
     "metadata": {},
     "output_type": "execute_result"
    },
    {
     "data": {
      "image/png": "[encoded data removed]",
      "text/plain": [
       "<matplotlib.figure.Figure at 0x119ca0748>"
      ]
     },
     "metadata": {},
     "output_type": "display_data"
    }
   ],
   "source": [
    "plt.figure(figsize=(12, 12))\n",
    "ax = sns.heatmap(sorted_g, square=True, xticklabels=False, yticklabels=False)\n",
    "ax.set_xticks(g_idx)\n",
    "ax.set_xticklabels(['G-%d' % d for d in range(K)])\n",
    "ax.set_yticks(g_idx[-1] - g_idx)\n",
    "ax.set_yticklabels(['G-%d' % d for d in range(K)])\n",
    "ax.hlines(g_idx[-1] - g_idx, xmin=0, xmax=g_idx[-1], linestyles='dashed')\n",
    "ax.vlines(g_idx, ymin=0, ymax=g_idx[-1], linestyles='dashed')"
   ]
  },
  {
   "cell_type": "markdown",
   "metadata": {},
   "source": [
    "In the above figure, verticies has been sorted according to their block assignments."
   ]
  },
  {
   "cell_type": "markdown",
   "metadata": {},
   "source": [
    "### Interaction between blocks"
   ]
  },
  {
   "cell_type": "code",
   "execution_count": 13,
   "metadata": {
    "collapsed": false
   },
   "outputs": [
    {
     "data": {
      "text/plain": [
       "<matplotlib.text.Text at 0x11a114a20>"
      ]
     },
     "execution_count": 13,
     "metadata": {},
     "output_type": "execute_result"
    },
    {
     "data": {
      "image/png": "[encoded data removed]",
      "text/plain": [
       "<matplotlib.figure.Figure at 0x11a05ab70>"
      ]
     },
     "metadata": {},
     "output_type": "display_data"
    }
   ],
   "source": [
    "plt.figure(figsize=(12, 6))\n",
    "plt.subplot(1, 2, 1)\n",
    "ax = sns.heatmap(eta, square=True)\n",
    "ax.set_xlabel('Blocks');ax.set_ylabel('Blocks')\n",
    "ax.set_title('Predefined interaction rate between blocks')\n",
    "plt.subplot(1, 2, 2)\n",
    "ax = sns.heatmap(icount, square=True)\n",
    "ax.set_xlabel('Blocks');ax.set_ylabel('Blocks')\n",
    "ax.set_title('Empirical interaction rate between blocks')"
   ]
  },
  {
   "cell_type": "markdown",
   "metadata": {},
   "source": [
    "Right figure illustrate the interaction parameter used to simulate the graph. Left figure is the number of edges between two groups from the sampled graph. These figure shows more clear interaction patterns between groups."
   ]
  },
  {
   "cell_type": "markdown",
   "metadata": {},
   "source": [
    "### Node degree distribution of block graph"
   ]
  },
  {
   "cell_type": "code",
   "execution_count": 14,
   "metadata": {
    "collapsed": false
   },
   "outputs": [
    {
     "data": {
      "text/plain": [
       "(1.0, 1801)"
      ]
     },
     "execution_count": 14,
     "metadata": {},
     "output_type": "execute_result"
    },
    {
     "data": {
      "image/png": "[encoded data removed]",
      "text/plain": [
       "<matplotlib.figure.Figure at 0x11a1500f0>"
      ]
     },
     "metadata": {},
     "output_type": "display_data"
    }
   ],
   "source": [
    "edge_degrees = np.sum(g, 0) + np.sum(g, 1) - np.diag(g)\n",
    "max_degree = np.max(edge_degrees)\n",
    "degree_dist = np.array([np.sum(edge_degrees==k) for k in range(1, int(max_degree+1))])\n",
    "\n",
    "plt.loglog(range(len(degree_dist)), degree_dist+1)\n",
    "plt.title(\"Node degree distribution\")\n",
    "plt.ylabel(\"# of nodes\")\n",
    "plt.xlabel(\"Node degree\")\n",
    "plt.xlim([0, max_degree])\n",
    "plt.ylim([0, np.max(degree_dist)])"
   ]
  },
  {
   "cell_type": "markdown",
   "metadata": {},
   "source": [
    "# Simulating Sparse Graph"
   ]
  },
  {
   "cell_type": "markdown",
   "metadata": {},
   "source": [
    "We now simulate a sparse graph without any group structures suggested by Caron and Fox.\n",
    "\n",
    "Reference:Caron, F., & Fox, E. B. (2015). Sparse graphs using exchangeable random measures, 1–64. Retrieved from http://arxiv.org/abs/1401.1137"
   ]
  },
  {
   "cell_type": "code",
   "execution_count": 15,
   "metadata": {
    "collapsed": false
   },
   "outputs": [],
   "source": [
    "G, D, w, w_rem, alpha, sigma, tau = GGPgraphrnd(alpha, sigma, tau)\n",
    "sg = G.toarray() > 0"
   ]
  },
  {
   "cell_type": "markdown",
   "metadata": {},
   "source": [
    "Note that G is a symmetric graph. \n",
    "\n",
    "Basic stats of the random graph `G`"
   ]
  },
  {
   "cell_type": "code",
   "execution_count": 16,
   "metadata": {
    "collapsed": false
   },
   "outputs": [
    {
     "name": "stdout",
     "output_type": "stream",
     "text": [
      "Graph size =  (218, 218)\n",
      "Total Edge Count = 743.0\n"
     ]
    }
   ],
   "source": [
    "print(\"Graph size = \", G.shape)\n",
    "print(\"Total Edge Count =\", G.sum())"
   ]
  },
  {
   "cell_type": "code",
   "execution_count": 17,
   "metadata": {
    "collapsed": false
   },
   "outputs": [
    {
     "data": {
      "image/png": "[encoded data removed]",
      "text/plain": [
       "<matplotlib.figure.Figure at 0x10c96d828>"
      ]
     },
     "metadata": {},
     "output_type": "display_data"
    }
   ],
   "source": [
    "plt.figure(figsize=(10, 10))\n",
    "ax = sns.heatmap(sg, square=True, xticklabels=False, yticklabels=False)"
   ]
  },
  {
   "cell_type": "markdown",
   "metadata": {},
   "source": [
    "### Node degree distribution of sparse graph"
   ]
  },
  {
   "cell_type": "code",
   "execution_count": 18,
   "metadata": {
    "collapsed": false
   },
   "outputs": [
    {
     "data": {
      "text/plain": [
       "(1.0, 123)"
      ]
     },
     "execution_count": 18,
     "metadata": {},
     "output_type": "execute_result"
    },
    {
     "data": {
      "image/png": "[encoded data removed]",
      "text/plain": [
       "<matplotlib.figure.Figure at 0x11bc5acf8>"
      ]
     },
     "metadata": {},
     "output_type": "display_data"
    }
   ],
   "source": [
    "edge_degrees = np.sum(sg, 0)\n",
    "max_degree = np.max(edge_degrees)\n",
    "degree_dist = np.array([np.sum(edge_degrees==k) for k in range(1, int(max_degree+1))])\n",
    "\n",
    "plt.loglog(range(len(degree_dist)), degree_dist+1)\n",
    "plt.title(\"Node degree distribution\")\n",
    "plt.ylabel(\"# of nodes\")\n",
    "plt.xlabel(\"Node degree\")\n",
    "plt.xlim([0, max_degree])\n",
    "plt.ylim([0, np.max(degree_dist)])"
   ]
  },
  {
   "cell_type": "code",
   "execution_count": null,
   "metadata": {
    "collapsed": true
   },
   "outputs": [],
   "source": []
  }
 ],
 "metadata": {
  "kernelspec": {
   "display_name": "Python 3",
   "language": "python",
   "name": "python3"
  },
  "language_info": {
   "codemirror_mode": {
    "name": "ipython",
    "version": 3
   },
   "file_extension": ".py",
   "mimetype": "text/x-python",
   "name": "python",
   "nbconvert_exporter": "python",
   "pygments_lexer": "ipython3",
   "version": "3.5.1"
  }
 },
 "nbformat": 4,
 "nbformat_minor": 0
}
