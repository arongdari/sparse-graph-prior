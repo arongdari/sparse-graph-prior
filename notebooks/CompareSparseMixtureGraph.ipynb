{
 "cells": [
  {
   "cell_type": "code",
   "execution_count": 21,
   "metadata": {
    "collapsed": true
   },
   "outputs": [],
   "source": [
    "import os\n",
    "import pickle\n",
    "from collections import defaultdict\n",
    "\n",
    "import numpy as np\n",
    "import networkx as nx\n",
    "\n",
    "import matplotlib.pyplot as plt\n",
    "from sgp.GraphUtil import sparse_to_networkx\n",
    "\n",
    "%matplotlib inline"
   ]
  },
  {
   "cell_type": "markdown",
   "metadata": {},
   "source": [
    "Properties:\n",
    "* The number of nodes increases as tau decreases (minimum > 0).\n",
    "* The number of nodes increases as alpha increases\n",
    "* Expected number of dense node is : -alpha / sigma * tau ^ sigma\n",
    "\n",
    "Basic parameter config (sparse alpha, sigma, tau + dense alpha, sigma tau):\n",
    "* 100, 0.5, 1, 100, -1, 0.1 (generate the largest graph among basic configurations)\n",
    "* 100, 0.5, 1, 100, -1, 1\n",
    "* 100, 0.5, 1, 100, -1, 5\n",
    "* 100, 0.5, 1, 100, -1, 10\n",
    "\n",
    "Additional parameter configurations\n",
    "* 100, 0, 1 + 100, -1, 1\n",
    "* 100, 0.5, 0.1 + 100, -1, 0.1"
   ]
  },
  {
   "cell_type": "code",
   "execution_count": 30,
   "metadata": {
    "collapsed": true
   },
   "outputs": [],
   "source": [
    "mdest = '../result/random_network/mixture/'\n",
    "sdest = '../result/random_network/sparse/'\n",
    "\n",
    "m_f = '%d_%.2f_%.2f_%.2f_%.2f_%.2f_%.2f.pkl'\n",
    "s_f = '%d_%.2f_%.2f_%.2f.pkl'\n",
    "\n",
    "alpha = 100\n",
    "sigma = 0.5\n",
    "tau = 1\n",
    "d_alpha = 100\n",
    "d_sigma = -1\n",
    "d_tau = 1"
   ]
  },
  {
   "cell_type": "code",
   "execution_count": 31,
   "metadata": {
    "collapsed": false
   },
   "outputs": [
    {
     "data": {
      "image/png": "[encoded data removed]",
      "text/plain": [
       "<matplotlib.figure.Figure at 0x10d991278>"
      ]
     },
     "metadata": {},
     "output_type": "display_data"
    }
   ],
   "source": [
    "n_sample=1\n",
    "for i in range(n_sample):\n",
    "    mfile = os.path.join(mdest, m_f % (i, alpha, sigma, tau, d_alpha, d_sigma, d_tau))\n",
    "    sfile = os.path.join(sdest, s_f % (i, alpha, sigma, tau))\n",
    "    \n",
    "    if os.path.exists(mfile) and os.path.exists(sfile):\n",
    "        sample = pickle.load(open(mfile, 'rb'))\n",
    "        G = sparse_to_networkx(sample[0])\n",
    "        ddict = nx.degree(G)\n",
    "        ddist = defaultdict(int)\n",
    "        for k, v in ddict.items():\n",
    "            ddist[v] += 1\n",
    "\n",
    "        sample = pickle.load(open(sfile, 'rb'))\n",
    "        sG = sparse_to_networkx(sample[0])\n",
    "        sddict = nx.degree(sG)\n",
    "        sddist = defaultdict(int)\n",
    "        for k, v in sddict.items():\n",
    "            sddist[v] += 1\n",
    "\n",
    "        ax = plt.subplot()\n",
    "        plt.scatter(list(ddist.keys()), list(ddist.values()), label='Mixed', color='red')\n",
    "        plt.scatter(list(sddist.keys()), list(sddist.values()), label='Sparse', color='blue')\n",
    "        ax.set_xscale(\"log\")\n",
    "        ax.set_yscale(\"log\")\n",
    "        plt.legend(loc='lower left')\n",
    "        plt.xlabel('Degree')\n",
    "        plt.ylabel('# of nodes')\n",
    "        plt.show()"
   ]
  },
  {
   "cell_type": "code",
   "execution_count": null,
   "metadata": {
    "collapsed": true
   },
   "outputs": [],
   "source": []
  }
 ],
 "metadata": {
  "anaconda-cloud": {},
  "kernelspec": {
   "display_name": "Python [Root]",
   "language": "python",
   "name": "Python [Root]"
  },
  "language_info": {
   "codemirror_mode": {
    "name": "ipython",
    "version": 3
   },
   "file_extension": ".py",
   "mimetype": "text/x-python",
   "name": "python",
   "nbconvert_exporter": "python",
   "pygments_lexer": "ipython3",
   "version": "3.5.2"
  }
 },
 "nbformat": 4,
 "nbformat_minor": 0
}
